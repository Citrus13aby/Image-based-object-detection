{
 "cells": [
  {
   "cell_type": "markdown",
   "id": "05f803e5",
   "metadata": {},
   "source": [
    "YOLOV3 AI Object detection project"
   ]
  },
  {
   "cell_type": "code",
   "execution_count": 1,
   "id": "91ae3338",
   "metadata": {},
   "outputs": [],
   "source": [
    "pip install opencv-python"
   ]
  },
  {
   "cell_type": "code",
   "execution_count": 2,
   "id": "29c703c3",
   "metadata": {},
   "outputs": [],
   "source": [
    "pip install tensorflow"
   ]
  },
  {
   "cell_type": "code",
   "execution_count": null,
   "id": "f061f79e",
   "metadata": {},
   "outputs": [],
   "source": [
    "pip install --upgrade pip"
   ]
  },
  {
   "cell_type": "code",
   "execution_count": 4,
   "id": "59350751",
   "metadata": {},
   "outputs": [
    {
     "name": "stdout",
     "output_type": "stream",
     "text": [
      "OpenCV version: 4.8.0\n",
      "NumPy version: 1.24.3\n",
      "TensorFlow version: 2.13.0\n"
     ]
    }
   ],
   "source": [
    "import cv2\n",
    "import numpy as np\n",
    "import tensorflow as tf  # for YOLO v3\n",
    "\n",
    "print(f\"OpenCV version: {cv2.__version__}\")\n",
    "print(f\"NumPy version: {np.__version__}\")\n",
    "print(f\"TensorFlow version: {tf.__version__}\")  # for YOLO v3\n",
    "\n"
   ]
  },
  {
   "cell_type": "markdown",
   "id": "a96c3c23",
   "metadata": {},
   "source": [
    "#Load YOLO v3 model and class labels: "
   ]
  },
  {
   "cell_type": "code",
   "execution_count": 5,
   "id": "91a890bd",
   "metadata": {},
   "outputs": [],
   "source": [
    "def load_model():\n",
    "    # Load the pre-trained YOLO weights and configuration\n",
    "    net = cv2.dnn.readNet(\"yolov3.weights\", \"yolov3.cfg\")\n",
    "    \n",
    "    #Load the class labels \n",
    "    with open (\"./coco.names.txt\", \"r\")as f:\n",
    "        classes = [line.strip() for line in f.readlines()]\n",
    "    return net, classes \n",
    " \n",
    "\n"
   ]
  },
  {
   "cell_type": "code",
   "execution_count": 6,
   "id": "0818adc5",
   "metadata": {},
   "outputs": [],
   "source": [
    "classes = []\n",
    "boxes = []\n",
    "confidences = []\n",
    "image_path = './person.jpg'\n",
    "image = cv2.imread(image_path)"
   ]
  },
  {
   "cell_type": "code",
   "execution_count": 7,
   "id": "97fd3e36",
   "metadata": {},
   "outputs": [],
   "source": [
    "def perform_object_detection(image_path):\n",
    "    #Load the YOLO model and class labels\n",
    "    net, classes = load_model()\n",
    "    \n",
    "    # Image path \n",
    "    image_path = './person.jpg'\n",
    "    #Load the image\n",
    "    image = cv2.imread(image_path)\n",
    "    \n",
    "\n",
    "    #Preprocess the image\n",
    "    blob = cv2.dnn.blobFromImage(image, 1/255, (416,416), (0,0,0), True, crop = False)\n",
    "    \n",
    "    #Set the input to the network \n",
    "    net.setInput(blob)\n",
    "    \n",
    "    # Forward pass through the network\n",
    "    layer_names = net.getLayerNames()\n",
    "    output_layers = net.getUnconnectedOutLayersNames()\n",
    "    outputs = net.forward(output_layers)\n",
    "\n",
    "    # Process the outputs\n",
    "    boxes = []\n",
    "    confidences = []\n",
    "    class_ids = []\n",
    "    for output in outputs:\n",
    "        for detection in output:\n",
    "            scores = detection[5:]\n",
    "            class_id = np.argmax(scores)\n",
    "            confidence = scores[class_id] \n",
    "\n",
    "            # Filter detections by confidence threshold\n",
    "            if confidence > 0.5: \n",
    "                # Scale the bounding box coordinates to the original image size\n",
    "                width = image.shape[1]\n",
    "                height = image.shape[0]\n",
    "                center_x = int(detection[0] * width)\n",
    "                center_y = int(detection[1] * height)\n",
    "                w = int(detection[2] * width)\n",
    "                h = int(detection[3] * height)\n",
    "                x = int(center_x - w / 2)\n",
    "                y = int(center_y - h / 2)\n",
    "\n",
    "                # Store the box, confidence, and class ID\n",
    "                boxes.append([x, y, w, h])\n",
    "                confidences.append(float(confidence))\n",
    "                class_ids.append(class_id)\n",
    "         # Apply non-maximum suppression to remove redundant overlapping boxes\n",
    "        indexes = cv2.dnn.NMSBoxes(boxes,confidences, 0.5, 0.4)\n",
    "\n",
    "        # Draw bounding boxes and labels on the image\n",
    "    colors = np.random.uniform(0, 255, size=(len(classes), 3))\n",
    "    font = cv2.FONT_HERSHEY_SIMPLEX\n",
    "    for i in range(len(boxes)):\n",
    "            if i in indexes:\n",
    "                x, y, w, h = boxes[i]\n",
    "                label = classes[class_ids[i]]\n",
    "                confidence = confidences[i]\n",
    "                color = colors[class_ids[i]]\n",
    "                cv2.rectangle(image, (x, y), (x + w, y + h), color, 2)\n",
    "                cv2.putText(image, f\"{label}: {confidence:.2f}\", (x, y - 5), font, 0.5, color, 2) \n",
    "                #maintain the position of the bounding boxes in respect to the images that are being entered \n",
    "\n",
    "        # Display the image with bounding boxes\n",
    "    cv2.imshow(\"Object Detection\", image)\n",
    "    cv2.waitKey(0) \n",
    "    cv2.destroyAllWindows()\n",
    "\n",
    "                "
   ]
  },
  {
   "cell_type": "code",
   "execution_count": 8,
   "id": "c37a67fd",
   "metadata": {},
   "outputs": [],
   "source": [
    "# Test the object detection\n",
    "# Replace with the path to your image\n",
    "perform_object_detection(image_path)"
   ]
  },
  {
   "cell_type": "code",
   "execution_count": null,
   "id": "2a2198e2",
   "metadata": {},
   "outputs": [],
   "source": []
  }
 ],
 "metadata": {
  "kernelspec": {
   "display_name": "Python 3 (ipykernel)",
   "language": "python",
   "name": "python3"
  },
  "language_info": {
   "codemirror_mode": {
    "name": "ipython",
    "version": 3
   },
   "file_extension": ".py",
   "mimetype": "text/x-python",
   "name": "python",
   "nbconvert_exporter": "python",
   "pygments_lexer": "ipython3",
   "version": "3.11.3"
  }
 },
 "nbformat": 4,
 "nbformat_minor": 5
}
